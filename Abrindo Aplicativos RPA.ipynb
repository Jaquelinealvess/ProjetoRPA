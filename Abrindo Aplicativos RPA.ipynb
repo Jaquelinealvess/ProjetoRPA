{
 "cells": [
  {
   "cell_type": "code",
   "execution_count": 1,
   "id": "55072f71",
   "metadata": {},
   "outputs": [
    {
     "name": "stdout",
     "output_type": "stream",
     "text": [
      "Defaulting to user installation because normal site-packages is not writeable\n",
      "Requirement already satisfied: pyautogui in c:\\users\\jasantos\\appdata\\roaming\\python\\python39\\site-packages (0.9.53)\n",
      "Requirement already satisfied: mouseinfo in c:\\users\\jasantos\\appdata\\roaming\\python\\python39\\site-packages (from pyautogui) (0.1.3)\n",
      "Requirement already satisfied: pyscreeze>=0.1.21 in c:\\users\\jasantos\\appdata\\roaming\\python\\python39\\site-packages (from pyautogui) (0.1.27)\n",
      "Requirement already satisfied: pymsgbox in c:\\users\\jasantos\\appdata\\roaming\\python\\python39\\site-packages (from pyautogui) (1.0.9)\n",
      "Requirement already satisfied: PyTweening>=1.0.1 in c:\\users\\jasantos\\appdata\\roaming\\python\\python39\\site-packages (from pyautogui) (1.0.4)\n",
      "Requirement already satisfied: pygetwindow>=0.0.5 in c:\\users\\jasantos\\appdata\\roaming\\python\\python39\\site-packages (from pyautogui) (0.0.9)\n",
      "Requirement already satisfied: pyrect in c:\\users\\jasantos\\appdata\\roaming\\python\\python39\\site-packages (from pygetwindow>=0.0.5->pyautogui) (0.2.0)\n",
      "Requirement already satisfied: pyperclip in c:\\users\\jasantos\\appdata\\roaming\\python\\python39\\site-packages (from mouseinfo->pyautogui) (1.8.2)\n"
     ]
    },
    {
     "name": "stderr",
     "output_type": "stream",
     "text": [
      "WARNING: Ignoring invalid distribution -andas (c:\\programdata\\anaconda3\\lib\\site-packages)\n",
      "WARNING: Ignoring invalid distribution -andas (c:\\programdata\\anaconda3\\lib\\site-packages)\n",
      "WARNING: Ignoring invalid distribution -andas (c:\\programdata\\anaconda3\\lib\\site-packages)\n",
      "WARNING: Ignoring invalid distribution -andas (c:\\programdata\\anaconda3\\lib\\site-packages)\n"
     ]
    }
   ],
   "source": [
    "!pip install pyautogui"
   ]
  },
  {
   "cell_type": "code",
   "execution_count": 52,
   "id": "0698ab46",
   "metadata": {},
   "outputs": [],
   "source": [
    "# importando biblioteca\n",
    "import pyautogui as posicaoMouse\n",
    "\n",
    "# aguardar tempo\n",
    "posicaoMouse.sleep(4)\n",
    "# Mover o mouse até o botão do windows, clicar na barra de tarefas e escrever excel\n",
    "posicaoMouse.moveTo(x=1395, y=874)\n",
    "posicaoMouse.click(x=1395, y=874)\n",
    "posicaoMouse.typewrite('excel')\n",
    "posicaoMouse.sleep(4)\n",
    "\n",
    "# clicar em abrir excel\n",
    "posicaoMouse.moveTo(x=1834, y=267)\n",
    "posicaoMouse.click(x=1834, y=267)\n",
    "posicaoMouse.sleep(6)\n",
    "# Clicar em abrir documento em branco\n",
    "posicaoMouse.moveTo(x=370, y=274)\n",
    "posicaoMouse.click(x=370, y=274)\n"
   ]
  },
  {
   "cell_type": "code",
   "execution_count": 70,
   "id": "eb9ecc96",
   "metadata": {},
   "outputs": [],
   "source": [
    "import pyautogui as posicaoAbrirGoogle\n",
    "posicaoAbrirGoogle.sleep(6)\n",
    "# print(posicaoAbrirGoogle.position())\n",
    "posicaoAbrirGoogle.moveTo(x=33, y=399)\n",
    "posicaoAbrirGoogle.doubleClick(x=33, y=399)\n",
    "posicaoAbrirGoogle.sleep(8)\n",
    "\n",
    "# Abrir google e Escolher o usuário \n",
    "posicaoAbrirGoogle.moveTo(x=431, y=316)\n",
    "posicaoAbrirGoogle.doubleClick(x=431, y=316)\n",
    "posicaoAbrirGoogle.sleep(6)\n",
    "\n",
    "# escrever url do google\n",
    "posicaoAbrirGoogle.typewrite('https://www.google.com/')\n",
    "posicaoAbrirGoogle.sleep(3)\n",
    "# Apertar enter\n",
    "posicaoAbrirGoogle.press('enter')\n",
    "posicaoAbrirGoogle.sleep(6)\n",
    "\n",
    "# print(posicaoAbrirGoogle.position())\n",
    "# Point(x=1365, y=0)\n",
    "\n",
    "# escrever dolar hoje e apertar enter\n",
    "posicaoAbrirGoogle.typewrite('dolar hoje')\n",
    "posicaoAbrirGoogle.sleep(3)\n",
    "posicaoAbrirGoogle.press('enter')\n",
    "posicaoAbrirGoogle.sleep(3)\n",
    "\n",
    "# print(posicaoAbrirGoogle.position())\n",
    "# Point(x=1365, y=0)"
   ]
  },
  {
   "cell_type": "code",
   "execution_count": 74,
   "id": "33ce014f",
   "metadata": {},
   "outputs": [],
   "source": [
    "import pyautogui as posicaoAbreArquivos\n",
    "# abrindo notepad com atalho windows win r\n",
    "posicaoAbreArquivos.hotkey('win', 'r')\n",
    "posicaoAbreArquivos.sleep(2)\n",
    "posicaoAbreArquivos.typewrite('notepad')\n",
    "posicaoAbreArquivos.press('enter')\n",
    "posicaoAbrirGoogle.sleep(3)\n",
    "\n",
    "# escreve no note pad\n",
    "posicaoAbrirGoogle.typewrite('Abrindo notepad com RPA')\n",
    "posicaoAbreArquivos.sleep(2)\n",
    "# permite pegar a janela ativa\n",
    "fecharJanelaNotepad = posicaoAbreArquivos.getActiveWindow()\n",
    "\n",
    "# fecha a janela ativa\n",
    "fecharJanelaNotepad.close()\n",
    "posicaoAbreArquivos.sleep(2)\n",
    "# pressionou tab\n",
    "posicaoAbreArquivos.press('tab')\n",
    "posicaoAbreArquivos.sleep(2)\n",
    "posicaoAbreArquivos.press('enter')"
   ]
  },
  {
   "cell_type": "code",
   "execution_count": 84,
   "id": "47ddd64f",
   "metadata": {},
   "outputs": [],
   "source": [
    "import pyautogui\n",
    "import pyautogui as escolha_opcao\n",
    "\n",
    "opcao = pyautogui.confirm('Clique na opção desejada', buttons = ['Excel', 'Word', 'Notepad'])\n",
    "\n",
    "# escolher a opção pelo a captura do botão\n",
    "if opcao == \"Excel\":\n",
    "    # print(\"A opção escolhida foi Excel\")\n",
    "    escolha_opcao.hotkey('win', 'r')\n",
    "    escolha_opcao.sleep(2)\n",
    "    escolha_opcao.typewrite('Excel')\n",
    "    escolha_opcao.press('enter') \n",
    "    escolha_opcao.typewrite('Excel')\n",
    "    \n",
    "elif opcao == \"Word\":\n",
    "    # print(\"A opção escolhida foi Word\")\n",
    "    escolha_opcao.hotkey('win', 'r')\n",
    "    escolha_opcao.sleep(2)\n",
    "    escolha_opcao.typewrite('winword')\n",
    "    escolha_opcao.press('enter') \n",
    "    escolha_opcao.typewrite('winword')\n",
    "    \n",
    "elif opcao == \"Notepad\":   \n",
    "    # print(\"A opção escolhida foi Notepad\")\n",
    "    escolha_opcao.hotkey('win', 'r')\n",
    "    escolha_opcao.sleep(2)\n",
    "    escolha_opcao.typewrite('Notepad')\n",
    "    escolha_opcao.press('enter')  \n",
    "    escolha_opcao.typewrite('Notepad')\n",
    "    \n",
    "    # pegar as posições relativas para abri arquivo em branco\n",
    "    "
   ]
  },
  {
   "cell_type": "code",
   "execution_count": null,
   "id": "ce0b2a1b",
   "metadata": {},
   "outputs": [],
   "source": []
  },
  {
   "cell_type": "code",
   "execution_count": null,
   "id": "a2a76d91",
   "metadata": {},
   "outputs": [],
   "source": []
  }
 ],
 "metadata": {
  "kernelspec": {
   "display_name": "Python 3 (ipykernel)",
   "language": "python",
   "name": "python3"
  },
  "language_info": {
   "codemirror_mode": {
    "name": "ipython",
    "version": 3
   },
   "file_extension": ".py",
   "mimetype": "text/x-python",
   "name": "python",
   "nbconvert_exporter": "python",
   "pygments_lexer": "ipython3",
   "version": "3.9.12"
  }
 },
 "nbformat": 4,
 "nbformat_minor": 5
}
